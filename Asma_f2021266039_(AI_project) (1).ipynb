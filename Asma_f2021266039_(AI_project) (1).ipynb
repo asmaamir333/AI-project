{
  "nbformat": 4,
  "nbformat_minor": 0,
  "metadata": {
    "colab": {
      "provenance": []
    },
    "kernelspec": {
      "name": "python3",
      "display_name": "Python 3"
    },
    "language_info": {
      "name": "python"
    }
  },
  "cells": [
    {
      "cell_type": "markdown",
      "source": [
        "**logistic regression**"
      ],
      "metadata": {
        "id": "bvdF5y468g0m"
      }
    },
    {
      "cell_type": "code",
      "source": [
        "import pandas as pd\n",
        "from sklearn.model_selection import train_test_split\n",
        "from sklearn.linear_model import LogisticRegression\n",
        "from sklearn.metrics import accuracy_score, classification_report\n",
        "from sklearn.preprocessing import LabelEncoder"
      ],
      "metadata": {
        "id": "SSFAN5D-46AN"
      },
      "execution_count": 33,
      "outputs": []
    },
    {
      "cell_type": "code",
      "source": [
        "# Load the dataset\n",
        "file_path = '/content/loan_approval_dataset.csv'\n",
        "data = pd.read_csv(file_path)\n",
        "\n",
        "# Strip leading spaces from column names\n",
        "data.columns = data.columns.str.strip()\n",
        "\n",
        "# Encode categorical variables\n",
        "label_encoder = LabelEncoder()\n",
        "data['education'] = label_encoder.fit_transform(data['education'])\n",
        "data['self_employed'] = label_encoder.fit_transform(data['self_employed'])\n",
        "data['loan_status'] = label_encoder.fit_transform(data['loan_status'])\n",
        "\n",
        "# Define features and target variable\n",
        "X = data.drop(['loan_id', 'loan_status'], axis=1)\n",
        "y = data['loan_status']\n",
        "\n",
        "# Split the dataset into training and testing sets\n",
        "X_train, X_test, y_train, y_test = train_test_split(X, y, test_size=0.2, random_state=42)\n",
        "\n",
        "# Initialize and train the logistic regression model\n",
        "log_reg = LogisticRegression(max_iter=1000)\n",
        "log_reg.fit(X_train, y_train)\n",
        "\n",
        "# Make predictions on the test set\n",
        "y_pred = log_reg.predict(X_test)\n",
        "\n",
        "# Evaluate the model\n",
        "accuracy = accuracy_score(y_test, y_pred)\n",
        "report = classification_report(y_test, y_pred)\n",
        "\n",
        "print(f\"Accuracy: {accuracy}\")\n",
        "print(report)"
      ],
      "metadata": {
        "colab": {
          "base_uri": "https://localhost:8080/"
        },
        "id": "ONtSoaY648iV",
        "outputId": "1aadfe70-2574-4785-9801-06a5d97128be"
      },
      "execution_count": 34,
      "outputs": [
        {
          "output_type": "stream",
          "name": "stdout",
          "text": [
            "Accuracy: 0.6288056206088993\n",
            "              precision    recall  f1-score   support\n",
            "\n",
            "           0       0.63      1.00      0.77       536\n",
            "           1       0.67      0.01      0.01       318\n",
            "\n",
            "    accuracy                           0.63       854\n",
            "   macro avg       0.65      0.50      0.39       854\n",
            "weighted avg       0.64      0.63      0.49       854\n",
            "\n"
          ]
        }
      ]
    },
    {
      "cell_type": "markdown",
      "source": [
        "**Decision Trees:**"
      ],
      "metadata": {
        "id": "Yx2SpgjJ8spK"
      }
    },
    {
      "cell_type": "code",
      "source": [
        "import pandas as pd\n",
        "from sklearn.model_selection import train_test_split\n",
        "from sklearn.tree import DecisionTreeClassifier\n",
        "from sklearn.metrics import accuracy_score, classification_report\n",
        "from sklearn.preprocessing import LabelEncoder"
      ],
      "metadata": {
        "id": "-YXTRv755hRE"
      },
      "execution_count": 35,
      "outputs": []
    },
    {
      "cell_type": "code",
      "source": [
        "# Load the dataset\n",
        "file_path = '/content/loan_approval_dataset.csv'\n",
        "data = pd.read_csv(file_path)\n",
        "\n",
        "# Strip leading spaces from column names\n",
        "data.columns = data.columns.str.strip()\n",
        "\n",
        "# Encode categorical variables\n",
        "label_encoder = LabelEncoder()\n",
        "data['education'] = label_encoder.fit_transform(data['education'])\n",
        "data['self_employed'] = label_encoder.fit_transform(data['self_employed'])\n",
        "data['loan_status'] = label_encoder.fit_transform(data['loan_status'])\n",
        "\n",
        "# Define features and target variable\n",
        "X = data.drop(['loan_id', 'loan_status'], axis=1)\n",
        "y = data['loan_status']\n",
        "\n",
        "# Split the dataset into training and testing sets\n",
        "X_train, X_test, y_train, y_test = train_test_split(X, y, test_size=0.2, random_state=42)\n",
        "\n",
        "# Initialize and train the decision tree classifier\n",
        "tree_clf = DecisionTreeClassifier(random_state=42)\n",
        "tree_clf.fit(X_train, y_train)\n",
        "\n",
        "# Make predictions on the test set\n",
        "y_pred = tree_clf.predict(X_test)\n",
        "\n",
        "# Evaluate the model\n",
        "accuracy = accuracy_score(y_test, y_pred)\n",
        "report = classification_report(y_test, y_pred)\n",
        "\n",
        "print(f\"Accuracy: {accuracy}\")\n",
        "print(report)\n"
      ],
      "metadata": {
        "colab": {
          "base_uri": "https://localhost:8080/"
        },
        "id": "Si7wXoSW5m2S",
        "outputId": "81ea59ce-270a-43b7-f475-2e1b2a69436c"
      },
      "execution_count": 36,
      "outputs": [
        {
          "output_type": "stream",
          "name": "stdout",
          "text": [
            "Accuracy: 0.977751756440281\n",
            "              precision    recall  f1-score   support\n",
            "\n",
            "           0       0.98      0.98      0.98       536\n",
            "           1       0.97      0.97      0.97       318\n",
            "\n",
            "    accuracy                           0.98       854\n",
            "   macro avg       0.98      0.98      0.98       854\n",
            "weighted avg       0.98      0.98      0.98       854\n",
            "\n"
          ]
        }
      ]
    },
    {
      "cell_type": "markdown",
      "source": [
        "**Random Forest**"
      ],
      "metadata": {
        "id": "HZtp68c781DJ"
      }
    },
    {
      "cell_type": "code",
      "source": [
        "import pandas as pd\n",
        "from sklearn.model_selection import train_test_split\n",
        "from sklearn.ensemble import RandomForestClassifier\n",
        "from sklearn.metrics import accuracy_score, classification_report\n",
        "from sklearn.preprocessing import LabelEncoder\n",
        "\n",
        "# Load the dataset\n",
        "file_path = '/content/loan_approval_dataset.csv'\n",
        "data = pd.read_csv(file_path)\n",
        "\n",
        "# Strip leading spaces from column names\n",
        "data.columns = data.columns.str.strip()\n",
        "\n",
        "# Encode categorical variables\n",
        "label_encoder = LabelEncoder()\n",
        "data['education'] = label_encoder.fit_transform(data['education'])\n",
        "data['self_employed'] = label_encoder.fit_transform(data['self_employed'])\n",
        "data['loan_status'] = label_encoder.fit_transform(data['loan_status'])\n",
        "\n",
        "# Define features and target variable\n",
        "X = data.drop(['loan_id', 'loan_status'], axis=1)\n",
        "y = data['loan_status']\n",
        "\n",
        "# Split the dataset into training and testing sets\n",
        "X_train, X_test, y_train, y_test = train_test_split(X, y, test_size=0.2, random_state=42)\n",
        "\n",
        "# Initialize and train the Random Forest classifier\n",
        "rf_clf = RandomForestClassifier(random_state=42)\n",
        "rf_clf.fit(X_train, y_train)\n",
        "\n",
        "# Make predictions on the test set\n",
        "y_pred = rf_clf.predict(X_test)\n",
        "\n",
        "# Evaluate the model\n",
        "accuracy = accuracy_score(y_test, y_pred)\n",
        "report = classification_report(y_test, y_pred)\n",
        "\n",
        "print(f\"Accuracy: {accuracy}\")\n",
        "print(report)\n"
      ],
      "metadata": {
        "colab": {
          "base_uri": "https://localhost:8080/"
        },
        "id": "nyxGnly758UO",
        "outputId": "b85015e3-26fd-49fb-ae66-78cf062690ca"
      },
      "execution_count": 37,
      "outputs": [
        {
          "output_type": "stream",
          "name": "stdout",
          "text": [
            "Accuracy: 0.977751756440281\n",
            "              precision    recall  f1-score   support\n",
            "\n",
            "           0       0.98      0.99      0.98       536\n",
            "           1       0.98      0.96      0.97       318\n",
            "\n",
            "    accuracy                           0.98       854\n",
            "   macro avg       0.98      0.97      0.98       854\n",
            "weighted avg       0.98      0.98      0.98       854\n",
            "\n"
          ]
        }
      ]
    },
    {
      "cell_type": "markdown",
      "source": [
        "**Gradient Boosting Machines (GBM)**"
      ],
      "metadata": {
        "id": "XKjwDutg87RH"
      }
    },
    {
      "cell_type": "code",
      "source": [
        "import pandas as pd\n",
        "from sklearn.model_selection import train_test_split\n",
        "from sklearn.ensemble import GradientBoostingClassifier\n",
        "from sklearn.metrics import accuracy_score, classification_report\n",
        "from sklearn.preprocessing import LabelEncoder\n",
        "\n",
        "# Load the dataset\n",
        "file_path = '/content/loan_approval_dataset.csv'\n",
        "data = pd.read_csv(file_path)\n",
        "\n",
        "# Strip leading spaces from column names\n",
        "data.columns = data.columns.str.strip()\n",
        "\n",
        "# Encode categorical variables\n",
        "label_encoder = LabelEncoder()\n",
        "data['education'] = label_encoder.fit_transform(data['education'])\n",
        "data['self_employed'] = label_encoder.fit_transform(data['self_employed'])\n",
        "data['loan_status'] = label_encoder.fit_transform(data['loan_status'])\n",
        "\n",
        "# Define features and target variable\n",
        "X = data.drop(['loan_id', 'loan_status'], axis=1)\n",
        "y = data['loan_status']\n",
        "\n",
        "# Split the dataset into training and testing sets\n",
        "X_train, X_test, y_train, y_test = train_test_split(X, y, test_size=0.2, random_state=42)\n",
        "\n",
        "# Initialize and train the Gradient Boosting Machine classifier\n",
        "gbm_clf = GradientBoostingClassifier(random_state=42)\n",
        "gbm_clf.fit(X_train, y_train)\n",
        "\n",
        "# Make predictions on the test set\n",
        "y_pred = gbm_clf.predict(X_test)\n",
        "\n",
        "# Evaluate the model\n",
        "accuracy = accuracy_score(y_test, y_pred)\n",
        "report = classification_report(y_test, y_pred)\n",
        "\n",
        "print(f\"Accuracy: {accuracy}\")\n",
        "print(report)\n"
      ],
      "metadata": {
        "colab": {
          "base_uri": "https://localhost:8080/"
        },
        "id": "ZoSPGC096ZhC",
        "outputId": "28f07b27-8d5d-493b-d446-b47641a40794"
      },
      "execution_count": 38,
      "outputs": [
        {
          "output_type": "stream",
          "name": "stdout",
          "text": [
            "Accuracy: 0.977751756440281\n",
            "              precision    recall  f1-score   support\n",
            "\n",
            "           0       0.98      0.99      0.98       536\n",
            "           1       0.97      0.97      0.97       318\n",
            "\n",
            "    accuracy                           0.98       854\n",
            "   macro avg       0.98      0.98      0.98       854\n",
            "weighted avg       0.98      0.98      0.98       854\n",
            "\n"
          ]
        }
      ]
    },
    {
      "cell_type": "markdown",
      "source": [
        "**Support Vector Machines (SVM)**"
      ],
      "metadata": {
        "id": "QU0hshDd9Ew3"
      }
    },
    {
      "cell_type": "code",
      "source": [
        "import pandas as pd\n",
        "from sklearn.model_selection import train_test_split\n",
        "from sklearn.svm import SVC\n",
        "from sklearn.metrics import accuracy_score, classification_report\n",
        "from sklearn.preprocessing import LabelEncoder\n",
        "from sklearn.preprocessing import StandardScaler\n",
        "\n",
        "# Load the dataset\n",
        "file_path = '/content/loan_approval_dataset.csv'\n",
        "data = pd.read_csv(file_path)\n",
        "\n",
        "# Strip leading spaces from column names\n",
        "data.columns = data.columns.str.strip()\n",
        "\n",
        "# Encode categorical variables\n",
        "label_encoder = LabelEncoder()\n",
        "data['education'] = label_encoder.fit_transform(data['education'])\n",
        "data['self_employed'] = label_encoder.fit_transform(data['self_employed'])\n",
        "data['loan_status'] = label_encoder.fit_transform(data['loan_status'])\n",
        "\n",
        "# Define features and target variable\n",
        "X = data.drop(['loan_id', 'loan_status'], axis=1)\n",
        "y = data['loan_status']\n",
        "\n",
        "# Split the dataset into training and testing sets\n",
        "X_train, X_test, y_train, y_test = train_test_split(X, y, test_size=0.2, random_state=42)\n",
        "\n",
        "# Standardize the features (important for SVM)\n",
        "scaler = StandardScaler()\n",
        "X_train = scaler.fit_transform(X_train)\n",
        "X_test = scaler.transform(X_test)\n",
        "\n",
        "# Initialize and train the SVM classifier\n",
        "svm_clf = SVC()\n",
        "svm_clf.fit(X_train, y_train)\n",
        "\n",
        "# Make predictions on the test set\n",
        "y_pred = svm_clf.predict(X_test)\n",
        "\n",
        "# Evaluate the model\n",
        "accuracy = accuracy_score(y_test, y_pred)\n",
        "report = classification_report(y_test, y_pred)\n",
        "\n",
        "print(f\"Accuracy: {accuracy}\")\n",
        "print(report)\n"
      ],
      "metadata": {
        "colab": {
          "base_uri": "https://localhost:8080/"
        },
        "id": "ODTbVJj30sK4",
        "outputId": "4eff8655-0c71-484a-c801-95e3a6a8f4da"
      },
      "execution_count": 6,
      "outputs": [
        {
          "output_type": "stream",
          "name": "stdout",
          "text": [
            "Accuracy: 0.9238875878220141\n",
            "              precision    recall  f1-score   support\n",
            "\n",
            "           0       0.95      0.93      0.94       536\n",
            "           1       0.88      0.92      0.90       318\n",
            "\n",
            "    accuracy                           0.92       854\n",
            "   macro avg       0.92      0.92      0.92       854\n",
            "weighted avg       0.92      0.92      0.92       854\n",
            "\n"
          ]
        }
      ]
    },
    {
      "cell_type": "markdown",
      "source": [
        "**k-Nearest Neighbors**"
      ],
      "metadata": {
        "id": "nhaTQDHs9LpH"
      }
    },
    {
      "cell_type": "code",
      "source": [
        "import pandas as pd\n",
        "from sklearn.model_selection import train_test_split\n",
        "from sklearn.neighbors import KNeighborsClassifier\n",
        "from sklearn.metrics import accuracy_score, classification_report\n",
        "from sklearn.preprocessing import LabelEncoder\n",
        "from sklearn.preprocessing import StandardScaler\n",
        "\n",
        "# Load the dataset\n",
        "file_path = '/content/loan_approval_dataset.csv'\n",
        "data = pd.read_csv(file_path)\n",
        "\n",
        "# Strip leading spaces from column names\n",
        "data.columns = data.columns.str.strip()\n",
        "\n",
        "# Encode categorical variables\n",
        "label_encoder = LabelEncoder()\n",
        "data['education'] = label_encoder.fit_transform(data['education'])\n",
        "data['self_employed'] = label_encoder.fit_transform(data['self_employed'])\n",
        "data['loan_status'] = label_encoder.fit_transform(data['loan_status'])\n",
        "\n",
        "# Define features and target variable\n",
        "X = data.drop(['loan_id', 'loan_status'], axis=1)\n",
        "y = data['loan_status']\n",
        "\n",
        "# Split the dataset into training and testing sets\n",
        "X_train, X_test, y_train, y_test = train_test_split(X, y, test_size=0.2, random_state=42)\n",
        "\n",
        "# Standardize the features (important for k-NN)\n",
        "scaler = StandardScaler()\n",
        "X_train = scaler.fit_transform(X_train)\n",
        "X_test = scaler.transform(X_test)\n",
        "\n",
        "# Initialize and train the k-NN classifier\n",
        "knn_clf = KNeighborsClassifier(n_neighbors=5)\n",
        "knn_clf.fit(X_train, y_train)\n",
        "\n",
        "# Make predictions on the test set\n",
        "y_pred = knn_clf.predict(X_test)\n",
        "\n",
        "# Evaluate the model\n",
        "accuracy = accuracy_score(y_test, y_pred)\n",
        "report = classification_report(y_test, y_pred)\n",
        "\n",
        "print(f\"Accuracy: {accuracy}\")\n",
        "print(report)\n"
      ],
      "metadata": {
        "colab": {
          "base_uri": "https://localhost:8080/"
        },
        "id": "4DrIN9W97bGM",
        "outputId": "ed5bc187-32fb-4978-b5a3-87e72cdbddf1"
      },
      "execution_count": 40,
      "outputs": [
        {
          "output_type": "stream",
          "name": "stdout",
          "text": [
            "Accuracy: 0.892271662763466\n",
            "              precision    recall  f1-score   support\n",
            "\n",
            "           0       0.93      0.90      0.91       536\n",
            "           1       0.84      0.88      0.86       318\n",
            "\n",
            "    accuracy                           0.89       854\n",
            "   macro avg       0.88      0.89      0.89       854\n",
            "weighted avg       0.89      0.89      0.89       854\n",
            "\n"
          ]
        }
      ]
    },
    {
      "cell_type": "code",
      "source": [
        "import pandas as pd\n",
        "from sklearn.model_selection import train_test_split\n",
        "from sklearn.preprocessing import StandardScaler, OneHotEncoder\n",
        "from sklearn.compose import ColumnTransformer\n",
        "from sklearn.pipeline import Pipeline\n",
        "from sklearn.linear_model import Ridge\n",
        "from sklearn.metrics import mean_squared_error\n",
        "\n",
        "# Load the dataset\n",
        "file_path = 'path_to_your_dataset/loan_approval_dataset.csv'  # replace with your file path\n",
        "loan_data = pd.read_csv(file_path)\n",
        "\n",
        "# Remove leading spaces from column names\n",
        "loan_data.columns = loan_data.columns.str.strip()\n",
        "\n",
        "# Define the target variable and features\n",
        "target = 'loan_amount'\n",
        "features = loan_data.drop(columns=[target, 'loan_id', 'loan_status'])\n",
        "\n",
        "# Separate the target variable\n",
        "X = features\n",
        "y = loan_data[target]\n",
        "\n",
        "# Define the preprocessing steps for numeric and categorical features\n",
        "numeric_features = features.select_dtypes(include=['int64']).columns.tolist()\n",
        "categorical_features = features.select_dtypes(include=['object']).columns.tolist()\n",
        "\n",
        "# Create preprocessing pipelines for both numeric and categorical data\n",
        "numeric_transformer = StandardScaler()\n",
        "categorical_transformer = OneHotEncoder(handle_unknown='ignore')\n",
        "\n",
        "# Combine the numeric and categorical transformers into a single ColumnTransformer\n",
        "preprocessor = ColumnTransformer(\n",
        "    transformers=[\n",
        "        ('num', numeric_transformer, numeric_features),\n",
        "        ('cat', categorical_transformer, categorical_features)\n",
        "    ])\n",
        "\n",
        "# Create a Ridge Regression model pipeline\n",
        "ridge_pipeline = Pipeline(steps=[\n",
        "    ('preprocessor', preprocessor),\n",
        "    ('ridge', Ridge(alpha=1.0))\n",
        "])\n",
        "\n",
        "# Split the data into training and testing sets\n",
        "X_train, X_test, y_train, y_test = train_test_split(X, y, test_size=0.2, random_state=42)\n",
        "\n",
        "# Train the Ridge Regression model\n",
        "ridge_pipeline.fit(X_train, y_train)\n",
        "\n",
        "# Make predictions on the test set\n",
        "y_pred = ridge_pipeline.predict(X_test)\n",
        "\n",
        "# Calculate the mean squared error\n",
        "mse = mean_squared_error(y_test, y_pred)\n",
        "rmse = mse ** 0.5\n",
        "\n",
        "print(f\"Root Mean Squared Error (RMSE): {rmse}\")\n",
        "\n",
        "# Save the trained model to a file (optional)\n",
        "import joblib\n",
        "joblib.dump(ridge_pipeline, 'ridge_regression_model.pkl')\n"
      ],
      "metadata": {
        "id": "LSwfjdoVzDqN"
      },
      "execution_count": null,
      "outputs": []
    },
    {
      "cell_type": "markdown",
      "source": [
        "**Ridge Regression**"
      ],
      "metadata": {
        "id": "JFkIAZSpzW9E"
      }
    },
    {
      "cell_type": "code",
      "source": [
        "import pandas as pd\n",
        "from sklearn.model_selection import train_test_split\n",
        "from sklearn.preprocessing import StandardScaler, OneHotEncoder\n",
        "from sklearn.compose import ColumnTransformer\n",
        "from sklearn.pipeline import Pipeline\n",
        "from sklearn.linear_model import Ridge\n",
        "from sklearn.metrics import mean_squared_error\n",
        "\n",
        "# Load the dataset\n",
        "file_path = '/content/loan_approval_dataset.csv'  # replace with your file path\n",
        "loan_data = pd.read_csv(file_path)\n",
        "\n",
        "# Remove leading spaces from column names\n",
        "loan_data.columns = loan_data.columns.str.strip()\n",
        "\n",
        "# Define the target variable and features\n",
        "target = 'loan_amount'\n",
        "features = loan_data.drop(columns=[target, 'loan_id', 'loan_status'])\n",
        "\n",
        "# Separate the target variable\n",
        "X = features\n",
        "y = loan_data[target]\n",
        "\n",
        "# Define the preprocessing steps for numeric and categorical features\n",
        "numeric_features = features.select_dtypes(include=['int64']).columns.tolist()\n",
        "categorical_features = features.select_dtypes(include=['object']).columns.tolist()\n",
        "\n",
        "# Create preprocessing pipelines for both numeric and categorical data\n",
        "numeric_transformer = StandardScaler()\n",
        "categorical_transformer = OneHotEncoder(handle_unknown='ignore')\n",
        "\n",
        "# Combine the numeric and categorical transformers into a single ColumnTransformer\n",
        "preprocessor = ColumnTransformer(\n",
        "    transformers=[\n",
        "        ('num', numeric_transformer, numeric_features),\n",
        "        ('cat', categorical_transformer, categorical_features)\n",
        "    ])\n",
        "\n",
        "# Create a Ridge Regression model pipeline\n",
        "ridge_pipeline = Pipeline(steps=[\n",
        "    ('preprocessor', preprocessor),\n",
        "    ('ridge', Ridge(alpha=1.0))\n",
        "])\n",
        "\n",
        "# Split the data into training and testing sets\n",
        "X_train, X_test, y_train, y_test = train_test_split(X, y, test_size=0.2, random_state=42)\n",
        "\n",
        "# Train the Ridge Regression model\n",
        "ridge_pipeline.fit(X_train, y_train)\n",
        "\n",
        "# Make predictions on the test set\n",
        "y_pred = ridge_pipeline.predict(X_test)\n",
        "\n",
        "# Calculate the mean squared error\n",
        "mse = mean_squared_error(y_test, y_pred)\n",
        "rmse = mse ** 0.5\n",
        "\n",
        "print(f\"Root Mean Squared Error (RMSE): {rmse}\")\n",
        "\n",
        "# Save the trained model to a file (optional)\n",
        "import joblib\n",
        "joblib.dump(ridge_pipeline, 'ridge_regression_model.pkl')\n"
      ],
      "metadata": {
        "colab": {
          "base_uri": "https://localhost:8080/"
        },
        "id": "OWL7K8umzhhu",
        "outputId": "1f0ce812-128c-42c4-a1c1-2cc216711fa8"
      },
      "execution_count": 5,
      "outputs": [
        {
          "output_type": "stream",
          "name": "stdout",
          "text": [
            "Root Mean Squared Error (RMSE): 3450969.894766542\n"
          ]
        },
        {
          "output_type": "execute_result",
          "data": {
            "text/plain": [
              "['ridge_regression_model.pkl']"
            ]
          },
          "metadata": {},
          "execution_count": 5
        }
      ]
    },
    {
      "cell_type": "markdown",
      "source": [
        "**Lasso Regression**"
      ],
      "metadata": {
        "id": "Hv7gYPNyztG9"
      }
    },
    {
      "cell_type": "code",
      "source": [
        "import pandas as pd\n",
        "from sklearn.model_selection import train_test_split\n",
        "from sklearn.preprocessing import StandardScaler, OneHotEncoder\n",
        "from sklearn.compose import ColumnTransformer\n",
        "from sklearn.pipeline import Pipeline\n",
        "from sklearn.linear_model import Lasso\n",
        "from sklearn.metrics import mean_squared_error\n",
        "\n",
        "# Load the dataset\n",
        "file_path = '/content/loan_approval_dataset.csv'  # Replace with your file path\n",
        "loan_data = pd.read_csv(file_path)\n",
        "\n",
        "# Remove leading spaces from column names\n",
        "loan_data.columns = loan_data.columns.str.strip()\n",
        "\n",
        "# Define the target variable and features\n",
        "target = 'loan_amount'\n",
        "features = loan_data.drop(columns=[target, 'loan_id', 'loan_status'])\n",
        "\n",
        "# Separate the target variable\n",
        "X = features\n",
        "y = loan_data[target]\n",
        "\n",
        "# Define the preprocessing steps for numeric and categorical features\n",
        "numeric_features = features.select_dtypes(include=['int64']).columns.tolist()\n",
        "categorical_features = features.select_dtypes(include=['object']).columns.tolist()\n",
        "\n",
        "# Create preprocessing pipelines for both numeric and categorical data\n",
        "numeric_transformer = StandardScaler()\n",
        "categorical_transformer = OneHotEncoder(handle_unknown='ignore')\n",
        "\n",
        "# Combine the numeric and categorical transformers into a single ColumnTransformer\n",
        "preprocessor = ColumnTransformer(\n",
        "    transformers=[\n",
        "        ('num', numeric_transformer, numeric_features),\n",
        "        ('cat', categorical_transformer, categorical_features)\n",
        "    ])\n",
        "\n",
        "# Create a Lasso Regression model pipeline\n",
        "lasso_pipeline = Pipeline(steps=[\n",
        "    ('preprocessor', preprocessor),\n",
        "    ('lasso', Lasso(alpha=1.0))\n",
        "])\n",
        "\n",
        "# Split the data into training and testing sets\n",
        "X_train, X_test, y_train, y_test = train_test_split(X, y, test_size=0.2, random_state=42)\n",
        "\n",
        "# Train the Lasso Regression model\n",
        "lasso_pipeline.fit(X_train, y_train)\n",
        "\n",
        "# Make predictions on the test set\n",
        "y_pred = lasso_pipeline.predict(X_test)\n",
        "\n",
        "# Calculate the mean squared error\n",
        "mse = mean_squared_error(y_test, y_pred)\n",
        "rmse = mse ** 0.5\n",
        "\n",
        "print(f\"Root Mean Squared Error (RMSE): {rmse}\")\n",
        "\n",
        "# Save the trained model to a file (optional)\n",
        "import joblib\n",
        "joblib.dump(lasso_pipeline, 'lasso_regression_model.pkl')\n"
      ],
      "metadata": {
        "colab": {
          "base_uri": "https://localhost:8080/"
        },
        "id": "1DZiK4-Mz2D6",
        "outputId": "ef305b92-c3fd-4ace-e1a4-1361459fc0ea"
      },
      "execution_count": 7,
      "outputs": [
        {
          "output_type": "stream",
          "name": "stdout",
          "text": [
            "Root Mean Squared Error (RMSE): 3451900.4422268565\n"
          ]
        },
        {
          "output_type": "execute_result",
          "data": {
            "text/plain": [
              "['lasso_regression_model.pkl']"
            ]
          },
          "metadata": {},
          "execution_count": 7
        }
      ]
    },
    {
      "cell_type": "markdown",
      "source": [
        "*Elastic net regression ***"
      ],
      "metadata": {
        "id": "lrkxHW-019Wp"
      }
    },
    {
      "cell_type": "code",
      "source": [
        "import pandas as pd\n",
        "from sklearn.model_selection import train_test_split\n",
        "from sklearn.preprocessing import StandardScaler, OneHotEncoder\n",
        "from sklearn.compose import ColumnTransformer\n",
        "from sklearn.pipeline import Pipeline\n",
        "from sklearn.linear_model import ElasticNet\n",
        "from sklearn.metrics import mean_squared_error\n",
        "\n",
        "# Load the dataset\n",
        "file_path = '/content/loan_approval_dataset.csv'  # Replace with your file path\n",
        "loan_data = pd.read_csv(file_path)\n",
        "\n",
        "# Remove leading spaces from column names\n",
        "loan_data.columns = loan_data.columns.str.strip()\n",
        "\n",
        "# Define the target variable and features\n",
        "target = 'loan_amount'\n",
        "features = loan_data.drop(columns=[target, 'loan_id', 'loan_status'])\n",
        "\n",
        "# Separate the target variable\n",
        "X = features\n",
        "y = loan_data[target]\n",
        "\n",
        "# Define the preprocessing steps for numeric and categorical features\n",
        "numeric_features = features.select_dtypes(include=['int64']).columns.tolist()\n",
        "categorical_features = features.select_dtypes(include=['object']).columns.tolist()\n",
        "\n",
        "# Create preprocessing pipelines for both numeric and categorical data\n",
        "numeric_transformer = StandardScaler()\n",
        "categorical_transformer = OneHotEncoder(handle_unknown='ignore')\n",
        "\n",
        "# Combine the numeric and categorical transformers into a single ColumnTransformer\n",
        "preprocessor = ColumnTransformer(\n",
        "    transformers=[\n",
        "        ('num', numeric_transformer, numeric_features),\n",
        "        ('cat', categorical_transformer, categorical_features)\n",
        "    ])\n",
        "\n",
        "# Create an Elastic Net Regression model pipeline\n",
        "elastic_net_pipeline = Pipeline(steps=[\n",
        "    ('preprocessor', preprocessor),\n",
        "    ('elasticnet', ElasticNet(alpha=1.0, l1_ratio=0.5))\n",
        "])\n",
        "\n",
        "# Split the data into training and testing sets\n",
        "X_train, X_test, y_train, y_test = train_test_split(X, y, test_size=0.2, random_state=42)\n",
        "\n",
        "# Train the Elastic Net Regression model\n",
        "elastic_net_pipeline.fit(X_train, y_train)\n",
        "\n",
        "# Make predictions on the test set\n",
        "y_pred = elastic_net_pipeline.predict(X_test)\n",
        "\n",
        "# Calculate the mean squared error\n",
        "mse = mean_squared_error(y_test, y_pred)\n",
        "rmse = mse ** 0.5\n",
        "\n",
        "print(f\"Root Mean Squared Error (RMSE): {rmse}\")\n",
        "\n",
        "# Save the trained model to a file (optional)\n",
        "import joblib\n",
        "joblib.dump(elastic_net_pipeline, 'elastic_net_regression_model.pkl')\n"
      ],
      "metadata": {
        "colab": {
          "base_uri": "https://localhost:8080/"
        },
        "id": "WvcEI7471gkv",
        "outputId": "e5417cac-8087-4fa3-e984-9a0d83cb5ca3"
      },
      "execution_count": 8,
      "outputs": [
        {
          "output_type": "stream",
          "name": "stdout",
          "text": [
            "Root Mean Squared Error (RMSE): 3806081.033486707\n"
          ]
        },
        {
          "output_type": "execute_result",
          "data": {
            "text/plain": [
              "['elastic_net_regression_model.pkl']"
            ]
          },
          "metadata": {},
          "execution_count": 8
        }
      ]
    },
    {
      "cell_type": "markdown",
      "source": [
        "**Polynomial Regression**"
      ],
      "metadata": {
        "id": "LooiBg4q2MlO"
      }
    },
    {
      "cell_type": "code",
      "source": [
        "import pandas as pd\n",
        "from sklearn.model_selection import train_test_split\n",
        "from sklearn.preprocessing import StandardScaler, OneHotEncoder\n",
        "from sklearn.compose import ColumnTransformer\n",
        "from sklearn.pipeline import Pipeline\n",
        "from sklearn.linear_model import ElasticNet\n",
        "from sklearn.metrics import mean_squared_error\n",
        "\n",
        "# Load the dataset\n",
        "file_path = '/content/loan_approval_dataset.csv'  # Replace with your file path\n",
        "loan_data = pd.read_csv(file_path)\n",
        "\n",
        "# Remove leading spaces from column names\n",
        "loan_data.columns = loan_data.columns.str.strip()\n",
        "\n",
        "# Define the target variable and features\n",
        "target = 'loan_amount'\n",
        "features = loan_data.drop(columns=[target, 'loan_id', 'loan_status'])\n",
        "\n",
        "# Separate the target variable\n",
        "X = features\n",
        "y = loan_data[target]\n",
        "\n",
        "# Define the preprocessing steps for numeric and categorical features\n",
        "numeric_features = features.select_dtypes(include=['int64']).columns.tolist()\n",
        "categorical_features = features.select_dtypes(include=['object']).columns.tolist()\n",
        "\n",
        "# Create preprocessing pipelines for both numeric and categorical data\n",
        "numeric_transformer = StandardScaler()\n",
        "categorical_transformer = OneHotEncoder(handle_unknown='ignore')\n",
        "\n",
        "# Combine the numeric and categorical transformers into a single ColumnTransformer\n",
        "preprocessor = ColumnTransformer(\n",
        "    transformers=[\n",
        "        ('num', numeric_transformer, numeric_features),\n",
        "        ('cat', categorical_transformer, categorical_features)\n",
        "    ])\n",
        "\n",
        "# Create an Elastic Net Regression model pipeline\n",
        "elastic_net_pipeline = Pipeline(steps=[\n",
        "    ('preprocessor', preprocessor),\n",
        "    ('elasticnet', ElasticNet(alpha=1.0, l1_ratio=0.5))\n",
        "])\n",
        "\n",
        "# Split the data into training and testing sets\n",
        "X_train, X_test, y_train, y_test = train_test_split(X, y, test_size=0.2, random_state=42)\n",
        "\n",
        "# Train the Elastic Net Regression model\n",
        "elastic_net_pipeline.fit(X_train, y_train)\n",
        "\n",
        "# Make predictions on the test set\n",
        "y_pred = elastic_net_pipeline.predict(X_test)\n",
        "\n",
        "# Calculate the mean squared error\n",
        "mse = mean_squared_error(y_test, y_pred)\n",
        "rmse = mse ** 0.5\n",
        "\n",
        "print(f\"Root Mean Squared Error (RMSE): {rmse}\")\n",
        "\n",
        "# Save the trained model to a file (optional)\n",
        "import joblib\n",
        "joblib.dump(elastic_net_pipeline, 'elastic_net_regression_model.pkl')\n"
      ],
      "metadata": {
        "colab": {
          "base_uri": "https://localhost:8080/"
        },
        "id": "43qMpXzJ2nMu",
        "outputId": "424ae02a-3543-42db-9ef3-742c1cc775b1"
      },
      "execution_count": 9,
      "outputs": [
        {
          "output_type": "stream",
          "name": "stdout",
          "text": [
            "Root Mean Squared Error (RMSE): 3806081.033486707\n"
          ]
        },
        {
          "output_type": "execute_result",
          "data": {
            "text/plain": [
              "['elastic_net_regression_model.pkl']"
            ]
          },
          "metadata": {},
          "execution_count": 9
        }
      ]
    }
  ]
}