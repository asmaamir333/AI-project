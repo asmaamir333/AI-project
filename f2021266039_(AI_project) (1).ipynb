{
  "nbformat": 4,
  "nbformat_minor": 0,
  "metadata": {
    "colab": {
      "provenance": []
    },
    "kernelspec": {
      "name": "python3",
      "display_name": "Python 3"
    },
    "language_info": {
      "name": "python"
    }
  },
  "cells": [
    {
      "cell_type": "code",
      "execution_count": 2,
      "metadata": {
        "colab": {
          "base_uri": "https://localhost:8080/"
        },
        "id": "QLRHIkXryUf7",
        "outputId": "e8e2f09f-95cb-4783-d104-fbe7476ea076"
      },
      "outputs": [
        {
          "output_type": "stream",
          "name": "stdout",
          "text": [
            "Requirement already satisfied: scikit-learn in /usr/local/lib/python3.10/dist-packages (1.2.2)\n",
            "Requirement already satisfied: numpy>=1.17.3 in /usr/local/lib/python3.10/dist-packages (from scikit-learn) (1.25.2)\n",
            "Requirement already satisfied: scipy>=1.3.2 in /usr/local/lib/python3.10/dist-packages (from scikit-learn) (1.11.4)\n",
            "Requirement already satisfied: joblib>=1.1.1 in /usr/local/lib/python3.10/dist-packages (from scikit-learn) (1.4.2)\n",
            "Requirement already satisfied: threadpoolctl>=2.0.0 in /usr/local/lib/python3.10/dist-packages (from scikit-learn) (3.5.0)\n"
          ]
        }
      ],
      "source": [
        "pip install scikit-learn\n"
      ]
    },
    {
      "cell_type": "code",
      "source": [
        "import pandas as pd\n",
        "import numpy as np\n",
        "from sklearn.model_selection import train_test_split\n",
        "from sklearn.metrics import accuracy_score, classification_report\n",
        "from sklearn.preprocessing import LabelEncoder, StandardScaler\n",
        "from sklearn.utils import all_estimators"
      ],
      "metadata": {
        "id": "iBcGooyXqRVU"
      },
      "execution_count": 3,
      "outputs": []
    },
    {
      "cell_type": "markdown",
      "source": [
        "**Load and Process dataset**"
      ],
      "metadata": {
        "id": "1RHMj1BJqglS"
      }
    },
    {
      "cell_type": "code",
      "source": [
        "dataset = pd.read_csv('/content/loan_approval_dataset.csv')"
      ],
      "metadata": {
        "id": "kBGnJFU0qnQ-"
      },
      "execution_count": 4,
      "outputs": []
    },
    {
      "cell_type": "code",
      "source": [
        "print(dataset.head())\n",
        "print(dataset.columns.tolist())"
      ],
      "metadata": {
        "colab": {
          "base_uri": "https://localhost:8080/"
        },
        "id": "oPNktH_Rqz-C",
        "outputId": "de4ff385-39b9-49d9-f088-10d7823767c1"
      },
      "execution_count": 5,
      "outputs": [
        {
          "output_type": "stream",
          "name": "stdout",
          "text": [
            "   loan_id   no_of_dependents      education  self_employed   income_annum  \\\n",
            "0        1                  2       Graduate             No        9600000   \n",
            "1        2                  0   Not Graduate            Yes        4100000   \n",
            "2        3                  3       Graduate             No        9100000   \n",
            "3        4                  3       Graduate             No        8200000   \n",
            "4        5                  5   Not Graduate            Yes        9800000   \n",
            "\n",
            "    loan_amount   loan_term   cibil_score   residential_assets_value  \\\n",
            "0      29900000          12           778                    2400000   \n",
            "1      12200000           8           417                    2700000   \n",
            "2      29700000          20           506                    7100000   \n",
            "3      30700000           8           467                   18200000   \n",
            "4      24200000          20           382                   12400000   \n",
            "\n",
            "    commercial_assets_value   luxury_assets_value   bank_asset_value  \\\n",
            "0                  17600000              22700000            8000000   \n",
            "1                   2200000               8800000            3300000   \n",
            "2                   4500000              33300000           12800000   \n",
            "3                   3300000              23300000            7900000   \n",
            "4                   8200000              29400000            5000000   \n",
            "\n",
            "   loan_status  \n",
            "0     Approved  \n",
            "1     Rejected  \n",
            "2     Rejected  \n",
            "3     Rejected  \n",
            "4     Rejected  \n",
            "['loan_id', ' no_of_dependents', ' education', ' self_employed', ' income_annum', ' loan_amount', ' loan_term', ' cibil_score', ' residential_assets_value', ' commercial_assets_value', ' luxury_assets_value', ' bank_asset_value', ' loan_status']\n"
          ]
        }
      ]
    },
    {
      "cell_type": "code",
      "source": [
        "# Check if 'self_employed' column exists and handle accordingly\n",
        "if 'self_employed' in dataset.columns:\n",
        "    # If the 'education' column is present, proceed with encoding\n",
        "    if 'education' in dataset.columns:\n",
        "        le = LabelEncoder()\n",
        "        dataset['education'] = le.fit_transform(dataset['education'])\n",
        "    else:\n",
        "        print(\"Error: 'education' column not found in the dataset.\")\n",
        "        # Handle the missing column here, e.g., by adding a default value or removing the rows\n",
        "\n",
        "    # Continue with the rest of your code...\n",
        "    le2 = LabelEncoder() # Create a new LabelEncoder for 'self_employed'\n",
        "    dataset['self_employed'] = le2.fit_transform(dataset['self_employed'])\n",
        "    X = dataset[['no_of_dependents', 'education', 'self_employed', 'income_annum', 'loan_amount',\n",
        "                 'loan_term', 'cibil_score', 'residential_assets_value', 'commercial_assets_value',\n",
        "                 'luxury_assets_value', 'bank_asset_value']]\n",
        "    y = dataset['loan_status']\n",
        "else:\n",
        "    print(\"Error: 'self_employed' column not found in the dataset.\")\n",
        "    # Handle the missing column here, e.g., by adding a default value or removing the rows"
      ],
      "metadata": {
        "colab": {
          "base_uri": "https://localhost:8080/"
        },
        "id": "looj7ehMq9wR",
        "outputId": "0dc0bf75-b2bc-411e-bef9-32f7e7992dc1"
      },
      "execution_count": 20,
      "outputs": [
        {
          "output_type": "stream",
          "name": "stdout",
          "text": [
            "Error: 'self_employed' column not found in the dataset.\n"
          ]
        }
      ]
    },
    {
      "cell_type": "code",
      "source": [
        "classifiers = all_estimators(type_filter='classifier')\n",
        "\n",
        "results = {}\n",
        "for name, Classifier in classifiers:\n",
        "    try:\n",
        "        clf = Classifier()\n",
        "        clf.fit(X, y)\n",
        "        y_pred = clf.predict(X)\n",
        "        accuracy = accuracy_score(y, y_pred)\n",
        "        results[name] = accuracy\n",
        "        print(f\"{name}: {accuracy}\")\n",
        "        print(classification_report(y, y_pred))\n",
        "    except Exception as e:\n",
        "        # Print out the classifiers that failed\n",
        "        print(f\"{name} failed: {e}\")\n",
        "sorted_results = sorted(results.items(), key=lambda x: x[1], reverse=True)\n",
        "print(\"\\nSorted Results:\")\n",
        "for name, accuracy in sorted_results:\n",
        "    print(f\"{name}: {accuracy}\")"
      ],
      "metadata": {
        "colab": {
          "base_uri": "https://localhost:8080/"
        },
        "id": "v3G7Tu7ouQOq",
        "outputId": "76fc4855-fc69-4b7c-85fb-d6c8882b9d33"
      },
      "execution_count": 28,
      "outputs": [
        {
          "output_type": "stream",
          "name": "stdout",
          "text": [
            "AdaBoostClassifier failed: name 'X' is not defined\n",
            "BaggingClassifier failed: name 'X' is not defined\n",
            "BernoulliNB failed: name 'X' is not defined\n",
            "CalibratedClassifierCV failed: name 'X' is not defined\n",
            "CategoricalNB failed: name 'X' is not defined\n",
            "ClassifierChain failed: _BaseChain.__init__() missing 1 required positional argument: 'base_estimator'\n",
            "ComplementNB failed: name 'X' is not defined\n",
            "DecisionTreeClassifier failed: name 'X' is not defined\n",
            "DummyClassifier failed: name 'X' is not defined\n",
            "ExtraTreeClassifier failed: name 'X' is not defined\n",
            "ExtraTreesClassifier failed: name 'X' is not defined\n",
            "GaussianNB failed: name 'X' is not defined\n",
            "GaussianProcessClassifier failed: name 'X' is not defined\n",
            "GradientBoostingClassifier failed: name 'X' is not defined\n",
            "HistGradientBoostingClassifier failed: name 'X' is not defined\n",
            "KNeighborsClassifier failed: name 'X' is not defined\n",
            "LabelPropagation failed: name 'X' is not defined\n",
            "LabelSpreading failed: name 'X' is not defined\n",
            "LinearDiscriminantAnalysis failed: name 'X' is not defined\n",
            "LinearSVC failed: name 'X' is not defined\n",
            "LogisticRegression failed: name 'X' is not defined\n",
            "LogisticRegressionCV failed: name 'X' is not defined\n",
            "MLPClassifier failed: name 'X' is not defined\n",
            "MultiOutputClassifier failed: MultiOutputClassifier.__init__() missing 1 required positional argument: 'estimator'\n",
            "MultinomialNB failed: name 'X' is not defined\n",
            "NearestCentroid failed: name 'X' is not defined\n",
            "NuSVC failed: name 'X' is not defined\n",
            "OneVsOneClassifier failed: OneVsOneClassifier.__init__() missing 1 required positional argument: 'estimator'\n",
            "OneVsRestClassifier failed: OneVsRestClassifier.__init__() missing 1 required positional argument: 'estimator'\n",
            "OutputCodeClassifier failed: OutputCodeClassifier.__init__() missing 1 required positional argument: 'estimator'\n",
            "PassiveAggressiveClassifier failed: name 'X' is not defined\n",
            "Perceptron failed: name 'X' is not defined\n",
            "QuadraticDiscriminantAnalysis failed: name 'X' is not defined\n",
            "RadiusNeighborsClassifier failed: name 'X' is not defined\n",
            "RandomForestClassifier failed: name 'X' is not defined\n",
            "RidgeClassifier failed: name 'X' is not defined\n",
            "RidgeClassifierCV failed: name 'X' is not defined\n",
            "SGDClassifier failed: name 'X' is not defined\n",
            "SVC failed: name 'X' is not defined\n",
            "StackingClassifier failed: StackingClassifier.__init__() missing 1 required positional argument: 'estimators'\n",
            "VotingClassifier failed: VotingClassifier.__init__() missing 1 required positional argument: 'estimators'\n",
            "\n",
            "Sorted Results:\n"
          ]
        }
      ]
    },
    {
      "cell_type": "code",
      "source": [
        "# prompt: now apply regression model based on this selected data\n",
        "\n",
        "from sklearn.model_selection import train_test_split\n",
        "from sklearn.linear_model import LinearRegression\n",
        "\n",
        "# Split the data into training and testing sets\n",
        "X_train, X_test, y_train, y_test = train_test_split(X, y, test_size=0.2, random_state=42)\n",
        "\n",
        "# Create a linear regression model\n",
        "model = LinearRegression()\n",
        "\n",
        "# Train the model on the training data\n",
        "model.fit(X_train, y_train)\n",
        "\n",
        "# Evaluate the model on the testing data\n",
        "y_pred = model.predict(X_test)\n",
        "r2_score = model.score(X_test, y_test)\n",
        "\n",
        "# Print the results\n",
        "print(\"R2 score:\", r2_score)\n"
      ],
      "metadata": {
        "colab": {
          "base_uri": "https://localhost:8080/",
          "height": 211
        },
        "id": "ErtzJbnvvvPZ",
        "outputId": "aad959a6-073e-4542-f6a3-bfdc7013552d"
      },
      "execution_count": 29,
      "outputs": [
        {
          "output_type": "error",
          "ename": "NameError",
          "evalue": "name 'X' is not defined",
          "traceback": [
            "\u001b[0;31m---------------------------------------------------------------------------\u001b[0m",
            "\u001b[0;31mNameError\u001b[0m                                 Traceback (most recent call last)",
            "\u001b[0;32m<ipython-input-29-8425855ad696>\u001b[0m in \u001b[0;36m<cell line: 7>\u001b[0;34m()\u001b[0m\n\u001b[1;32m      5\u001b[0m \u001b[0;34m\u001b[0m\u001b[0m\n\u001b[1;32m      6\u001b[0m \u001b[0;31m# Split the data into training and testing sets\u001b[0m\u001b[0;34m\u001b[0m\u001b[0;34m\u001b[0m\u001b[0m\n\u001b[0;32m----> 7\u001b[0;31m \u001b[0mX_train\u001b[0m\u001b[0;34m,\u001b[0m \u001b[0mX_test\u001b[0m\u001b[0;34m,\u001b[0m \u001b[0my_train\u001b[0m\u001b[0;34m,\u001b[0m \u001b[0my_test\u001b[0m \u001b[0;34m=\u001b[0m \u001b[0mtrain_test_split\u001b[0m\u001b[0;34m(\u001b[0m\u001b[0mX\u001b[0m\u001b[0;34m,\u001b[0m \u001b[0my\u001b[0m\u001b[0;34m,\u001b[0m \u001b[0mtest_size\u001b[0m\u001b[0;34m=\u001b[0m\u001b[0;36m0.2\u001b[0m\u001b[0;34m,\u001b[0m \u001b[0mrandom_state\u001b[0m\u001b[0;34m=\u001b[0m\u001b[0;36m42\u001b[0m\u001b[0;34m)\u001b[0m\u001b[0;34m\u001b[0m\u001b[0;34m\u001b[0m\u001b[0m\n\u001b[0m\u001b[1;32m      8\u001b[0m \u001b[0;34m\u001b[0m\u001b[0m\n\u001b[1;32m      9\u001b[0m \u001b[0;31m# Create a linear regression model\u001b[0m\u001b[0;34m\u001b[0m\u001b[0;34m\u001b[0m\u001b[0m\n",
            "\u001b[0;31mNameError\u001b[0m: name 'X' is not defined"
          ]
        }
      ]
    }
  ]
}